{
 "cells": [
  {
   "cell_type": "code",
   "execution_count": 2,
   "metadata": {},
   "outputs": [
    {
     "name": "stdout",
     "output_type": "stream",
     "text": [
      "The num of students is  28\n"
     ]
    }
   ],
   "source": [
    "# coding: utf-8\n",
    "import csv\n",
    "import numpy as np\n",
    "import pandas as pd\n",
    "import pdb\n",
    "import os\n",
    "import pdb\n",
    "root = '../../'\n",
    "writer = csv.writer(open(root + 'DKT_atoms.csv','w',newline=''))\n",
    "imputed_list = []\n",
    "for dirpath,dirnames,filenames in os.walk(root):\n",
    "    for filename in filenames:\n",
    "        if filename.endswith('_imputed.csv'):\n",
    "            imputed_list.append(dirpath + '/' + filename)\n",
    "\n",
    "\n",
    "problem_ID = 0 # make each question to be an ID\n",
    "problem_set = {} # unique problem type\n",
    "answer_set = {'CORRECT':1, 'INCORRECT':0}\n",
    "print ('The num of students is ', len(imputed_list))\n",
    "\n"
   ]
  },
  {
   "cell_type": "code",
   "execution_count": 5,
   "metadata": {},
   "outputs": [],
   "source": [
    "student = pd.read_csv('../../2014 S Session 2/atoms31_imputed.csv', low_memory=False)  "
   ]
  },
  {
   "cell_type": "code",
   "execution_count": 14,
   "metadata": {},
   "outputs": [],
   "source": [
    "Response_null = pd.isnull(student[\"Response\"])\n",
    "student_res = student[['question','Response']][Response_null == False]\n",
    "    "
   ]
  },
  {
   "cell_type": "code",
   "execution_count": 16,
   "metadata": {},
   "outputs": [],
   "source": [
    "student_res = student_res[student_res['question'] != '_root'][student_res['question'] != 'done'][student_res['question'] != 'nl'][student_res['Response'] != 'HINT']  "
   ]
  },
  {
   "cell_type": "code",
   "execution_count": 17,
   "metadata": {},
   "outputs": [
    {
     "data": {
      "text/plain": [
       "9589                              ptRow\n",
       "10347                       ptElectrons\n",
       "11714                       ptElectrons\n",
       "12420                           ptGroup\n",
       "14307            lewisValenceConnection\n",
       "14969            lewisValenceConnection\n",
       "16263                         lewisDots\n",
       "16992                 lewisCenterSymbol\n",
       "18807                         lewisDots\n",
       "21483                         lewisDots\n",
       "23826                          lewisRep\n",
       "24670              lewisPairedElectrons\n",
       "25156              lewisPairedElectrons\n",
       "25418            lewisUnpairedElectrons\n",
       "26700         lewisBondingElectronsType\n",
       "27402          lewisBondingElectronsNum\n",
       "31162                             ptRow\n",
       "31783                       ptElectrons\n",
       "32205                           ptGroup\n",
       "33311                orbital1sElectrons\n",
       "33855               orbital2sElectrons1\n",
       "35336               orbital2sElectrons1\n",
       "38498               orbital2pNumberName\n",
       "38861               orbital2pNumberName\n",
       "39209               orbital2pNumberName\n",
       "42762                orbital2sElectrons\n",
       "45076               orbital2pElectrons1\n",
       "45807               orbital2pElectrons1\n",
       "46391               orbital2pElectrons1\n",
       "47286               orbital2pElectrons1\n",
       "                      ...              \n",
       "580286               electronegativity1\n",
       "582276      electronegativityDifference\n",
       "583006    electronegativityExplanation1\n",
       "584700                  electronSharing\n",
       "585548                         bondType\n",
       "587053                     reprPolarity\n",
       "587438                     reprPolarity\n",
       "587812                     reprPolarity\n",
       "591210               electronegativity1\n",
       "592144               electronegativity2\n",
       "593599         moreElectronegativeAtom1\n",
       "594111    electronegativityExplanation1\n",
       "594529    electronegativityExplanation1\n",
       "596924                  electronSharing\n",
       "597776         moreElectronegativeAtom2\n",
       "598443                     reprPolarity\n",
       "602163               electronegativity1\n",
       "602764               electronegativity2\n",
       "604010         moreElectronegativeAtom1\n",
       "604508    electronegativityExplanation1\n",
       "606999                  electronSharing\n",
       "607592                  electronSharing\n",
       "608211         moreElectronegativeAtom2\n",
       "608996                     reprPolarity\n",
       "609828                     reprPolarity\n",
       "610161                     reprPolarity\n",
       "614947                           answer\n",
       "618296                           answer\n",
       "621091                           answer\n",
       "624350                           answer\n",
       "Name: question, Length: 393, dtype: object"
      ]
     },
     "execution_count": 17,
     "metadata": {},
     "output_type": "execute_result"
    }
   ],
   "source": [
    "student_res['question']"
   ]
  }
 ],
 "metadata": {
  "kernelspec": {
   "display_name": "Python 3",
   "language": "python",
   "name": "python3"
  },
  "language_info": {
   "codemirror_mode": {
    "name": "ipython",
    "version": 3
   },
   "file_extension": ".py",
   "mimetype": "text/x-python",
   "name": "python",
   "nbconvert_exporter": "python",
   "pygments_lexer": "ipython3",
   "version": "3.4.3"
  }
 },
 "nbformat": 4,
 "nbformat_minor": 2
}
